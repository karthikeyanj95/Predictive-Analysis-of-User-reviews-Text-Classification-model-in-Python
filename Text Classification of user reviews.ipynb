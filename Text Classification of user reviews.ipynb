{
 "cells": [
  {
   "cell_type": "markdown",
   "metadata": {},
   "source": [
    "# Data Science in Python\n",
    "## Text Classification"
   ]
  },
  {
   "cell_type": "markdown",
   "metadata": {},
   "source": [
    "Name: Karthikeyan Jawahar"
   ]
  },
  {
   "cell_type": "markdown",
   "metadata": {},
   "source": [
    "# Choosing category to obtain review  and rating\n",
    "\n",
    "Two categories are chosen, Restaurant and Hotel and Travel.\n",
    "The review text and star ratings are stored into two separate csv files.\n",
    "For analysis purposes the positive and negative rating categories are stored as '0' and '1'.\n",
    "Note: Positive = '1' & Negative = '0'."
   ]
  },
  {
   "cell_type": "markdown",
   "metadata": {},
   "source": [
    "Import all the necessary packages"
   ]
  },
  {
   "cell_type": "code",
   "execution_count": 1,
   "metadata": {},
   "outputs": [],
   "source": [
    "import pandas as pd\n",
    "import numpy as np\n",
    "import requests\n",
    "import re  \n",
    "import nltk  \n",
    "import io\n",
    "import csv\n",
    "import os.path\n",
    "import matplotlib\n",
    "import matplotlib.pyplot as plt\n",
    "%matplotlib inline\n",
    "from nltk.corpus import stopwords  "
   ]
  },
  {
   "cell_type": "markdown",
   "metadata": {},
   "source": [
    "Download wordnet for lemmatization"
   ]
  },
  {
   "cell_type": "code",
   "execution_count": 2,
   "metadata": {},
   "outputs": [
    {
     "name": "stderr",
     "output_type": "stream",
     "text": [
      "[nltk_data] Downloading package wordnet to /Users/karthik/nltk_data...\n",
      "[nltk_data]   Package wordnet is already up-to-date!\n",
      "[nltk_data] Downloading package stopwords to\n",
      "[nltk_data]     /Users/karthik/nltk_data...\n",
      "[nltk_data]   Package stopwords is already up-to-date!\n"
     ]
    },
    {
     "data": {
      "text/plain": [
       "True"
      ]
     },
     "execution_count": 2,
     "metadata": {},
     "output_type": "execute_result"
    }
   ],
   "source": [
    "nltk.download('wordnet')\n",
    "nltk.download('stopwords')"
   ]
  },
  {
   "cell_type": "markdown",
   "metadata": {},
   "source": [
    "# Task 1 : Data scraping and storing dataset"
   ]
  },
  {
   "cell_type": "markdown",
   "metadata": {},
   "source": [
    "Function to scrape data from the web page(i.e.) scrape all restaurant data"
   ]
  },
  {
   "cell_type": "code",
   "execution_count": 3,
   "metadata": {},
   "outputs": [],
   "source": [
    "import requests\n",
    "from bs4 import BeautifulSoup\n",
    "\n",
    "def get_data(url):                    #Finds the URL to required fdns file\n",
    "    url_list = [] #to store all the restaurants url to scrape reviews\n",
    "    page = requests.get(url)\n",
    "    soup = BeautifulSoup(page.content,\"html.parser\")\n",
    "    databuf = soup.findAll('h6') #inspect the site to check html elements, all restaurant names are stored in <h6> \n",
    "    for i in databuf:\n",
    "        i = i.find('a')\n",
    "        url_list.append(i.get('href')) #getting all restaurants individual page link\n",
    "    return(url_list)\n"
   ]
  },
  {
   "cell_type": "markdown",
   "metadata": {},
   "source": [
    "Storing all individual restaurant and hotel's webpage link for scraping"
   ]
  },
  {
   "cell_type": "code",
   "execution_count": 4,
   "metadata": {},
   "outputs": [],
   "source": [
    "base_url = 'http://mlg.ucd.ie/modules/yalp/' #base url for the site\n",
    "restaurant_list = get_data('http://mlg.ucd.ie/modules/yalp/restaurants_list.html') #all the individual url for restaurants stored as a list\n",
    "hotel_travel_list = get_data('http://mlg.ucd.ie/modules/yalp/hotels_travel_list.html') #all the individual url for hotel and travel stored as a list\n"
   ]
  },
  {
   "cell_type": "code",
   "execution_count": 5,
   "metadata": {},
   "outputs": [],
   "source": [
    "restaurant_reviews = []\n",
    "hotel_travel_reviews = []"
   ]
  },
  {
   "cell_type": "markdown",
   "metadata": {},
   "source": [
    "To scrape all the reviews from individual webpage and store it with review text and class label"
   ]
  },
  {
   "cell_type": "code",
   "execution_count": 6,
   "metadata": {},
   "outputs": [],
   "source": [
    "def get_review_data(url):\n",
    "    review_arr = []\n",
    "    \n",
    "    review_page = requests.get(url) #opening the individual restaurant\n",
    "    rev_soup = BeautifulSoup(review_page.content,\"html.parser\")\n",
    "    \n",
    "    buffer = rev_soup.findAll('div',attrs={\"class\":\"review\"}) #finding reviews written inside div inspect any restaurant page to see the structure\n",
    "    \n",
    "    for i in buffer: #for all the divs that has reviews am getting the stars rating and review text by looping through all reviews\n",
    "        contentObj = {}\n",
    "        starCount = i.find('p',attrs={\"class\":\"stars\"}).find('img').get('alt').split(\"-\")[0] #to get the number of stars\n",
    "        if(int(starCount) <= 3):\n",
    "            star=0#Negative rating(stars)\n",
    "        else:\n",
    "            star=1#Positive rating(stars)\n",
    "        rev_tex = i.find('p',attrs={\"class\":\"text\"}).get_text() #to get review text\n",
    "        contentObj[\"category\"] = star #storing it in dict\n",
    "        contentObj[\"review\"] = rev_tex\n",
    "        review_arr.append(contentObj) #appending the dict to a list to store all reviews as dict with ratings and text\n",
    "         \n",
    "    return review_arr\n",
    "    "
   ]
  },
  {
   "cell_type": "code",
   "execution_count": 7,
   "metadata": {},
   "outputs": [],
   "source": [
    "for urls in restaurant_list: #for all individual urls, looping it to get all the reviews from that page and store it in array\n",
    "    main_url = base_url + urls \n",
    "    restaurant_reviews = restaurant_reviews + get_review_data(main_url) #storing all the list of restaurant reviews into single list\n",
    "    \n",
    "for urls in hotel_travel_list: #for all individual urls, looping it to get all the reviews from that page and store it in array\n",
    "    main_url_hotel = base_url + urls \n",
    "    hotel_travel_reviews = hotel_travel_reviews + get_review_data(main_url_hotel) #storing all the list of hotel and travel reviews into single list\n",
    "           \n",
    "    "
   ]
  },
  {
   "cell_type": "markdown",
   "metadata": {},
   "source": [
    "Check for the length to find if all the reviews are scraped properly"
   ]
  },
  {
   "cell_type": "code",
   "execution_count": 8,
   "metadata": {},
   "outputs": [
    {
     "data": {
      "text/plain": [
       "1440"
      ]
     },
     "execution_count": 8,
     "metadata": {},
     "output_type": "execute_result"
    }
   ],
   "source": [
    "len(restaurant_reviews)"
   ]
  },
  {
   "cell_type": "code",
   "execution_count": 9,
   "metadata": {},
   "outputs": [
    {
     "data": {
      "text/plain": [
       "1430"
      ]
     },
     "execution_count": 9,
     "metadata": {},
     "output_type": "execute_result"
    }
   ],
   "source": [
    "len(hotel_travel_reviews)"
   ]
  },
  {
   "cell_type": "markdown",
   "metadata": {},
   "source": [
    "Store all the review and the class labels for each of the categories into two separate CSV files"
   ]
  },
  {
   "cell_type": "code",
   "execution_count": 10,
   "metadata": {},
   "outputs": [],
   "source": [
    "\n",
    "csv_columns = ['review','category']\n",
    "\n",
    "restaurant_csv_file = \"Restaurants.csv\"\n",
    "hotel_csv_file = \"Hotel_and_Travel.csv\"\n",
    "\n",
    "#for restaurant\n",
    "try:\n",
    "    with open(restaurant_csv_file, 'w', encoding='utf-8') as csvfile:\n",
    "        writer = csv.DictWriter(csvfile, fieldnames=csv_columns)\n",
    "        writer.writeheader()\n",
    "        for data in restaurant_reviews:\n",
    "            writer.writerow(data)\n",
    "except IOError:\n",
    "    print(\"I/O error\") \n",
    "\n",
    "#for hotel and travel\n",
    "try:\n",
    "    with open(hotel_csv_file, 'w', encoding='utf-8') as csvfile:\n",
    "        writer = csv.DictWriter(csvfile, fieldnames=csv_columns)\n",
    "        writer.writeheader()\n",
    "        for data in hotel_travel_reviews:\n",
    "            writer.writerow(data)\n",
    "except IOError:\n",
    "    print(\"I/O error\") "
   ]
  },
  {
   "cell_type": "markdown",
   "metadata": {},
   "source": [
    "Loading CSV file into dataframe"
   ]
  },
  {
   "cell_type": "code",
   "execution_count": 11,
   "metadata": {},
   "outputs": [],
   "source": [
    "restaurant_review_df = pd.read_csv('Restaurants.csv')\n",
    "hotel_review_df = pd.read_csv(\"Hotel_and_Travel.csv\")"
   ]
  },
  {
   "cell_type": "markdown",
   "metadata": {},
   "source": [
    "# Task 2a : Text pre-processing"
   ]
  },
  {
   "cell_type": "markdown",
   "metadata": {},
   "source": [
    "Display the dataframes"
   ]
  },
  {
   "cell_type": "code",
   "execution_count": 12,
   "metadata": {},
   "outputs": [
    {
     "data": {
      "text/html": [
       "<div>\n",
       "<style scoped>\n",
       "    .dataframe tbody tr th:only-of-type {\n",
       "        vertical-align: middle;\n",
       "    }\n",
       "\n",
       "    .dataframe tbody tr th {\n",
       "        vertical-align: top;\n",
       "    }\n",
       "\n",
       "    .dataframe thead th {\n",
       "        text-align: right;\n",
       "    }\n",
       "</style>\n",
       "<table border=\"1\" class=\"dataframe\">\n",
       "  <thead>\n",
       "    <tr style=\"text-align: right;\">\n",
       "      <th></th>\n",
       "      <th>review</th>\n",
       "      <th>category</th>\n",
       "    </tr>\n",
       "  </thead>\n",
       "  <tbody>\n",
       "    <tr>\n",
       "      <th>0</th>\n",
       "      <td>Too expensive for what they had... i had an eg...</td>\n",
       "      <td>0</td>\n",
       "    </tr>\n",
       "    <tr>\n",
       "      <th>1</th>\n",
       "      <td>Very rustic place. Mismatched furniture, off K...</td>\n",
       "      <td>1</td>\n",
       "    </tr>\n",
       "    <tr>\n",
       "      <th>2</th>\n",
       "      <td>I highly recommend Au Festin de Babette for th...</td>\n",
       "      <td>1</td>\n",
       "    </tr>\n",
       "    <tr>\n",
       "      <th>3</th>\n",
       "      <td>Amazing soup and dauphinoise. BUT the wait for...</td>\n",
       "      <td>0</td>\n",
       "    </tr>\n",
       "    <tr>\n",
       "      <th>4</th>\n",
       "      <td>I went here by recommendation of a friend. Tho...</td>\n",
       "      <td>0</td>\n",
       "    </tr>\n",
       "  </tbody>\n",
       "</table>\n",
       "</div>"
      ],
      "text/plain": [
       "                                              review  category\n",
       "0  Too expensive for what they had... i had an eg...         0\n",
       "1  Very rustic place. Mismatched furniture, off K...         1\n",
       "2  I highly recommend Au Festin de Babette for th...         1\n",
       "3  Amazing soup and dauphinoise. BUT the wait for...         0\n",
       "4  I went here by recommendation of a friend. Tho...         0"
      ]
     },
     "execution_count": 12,
     "metadata": {},
     "output_type": "execute_result"
    }
   ],
   "source": [
    "restaurant_review_df.head()"
   ]
  },
  {
   "cell_type": "code",
   "execution_count": 13,
   "metadata": {
    "scrolled": false
   },
   "outputs": [
    {
     "data": {
      "text/html": [
       "<div>\n",
       "<style scoped>\n",
       "    .dataframe tbody tr th:only-of-type {\n",
       "        vertical-align: middle;\n",
       "    }\n",
       "\n",
       "    .dataframe tbody tr th {\n",
       "        vertical-align: top;\n",
       "    }\n",
       "\n",
       "    .dataframe thead th {\n",
       "        text-align: right;\n",
       "    }\n",
       "</style>\n",
       "<table border=\"1\" class=\"dataframe\">\n",
       "  <thead>\n",
       "    <tr style=\"text-align: right;\">\n",
       "      <th></th>\n",
       "      <th>review</th>\n",
       "      <th>category</th>\n",
       "    </tr>\n",
       "  </thead>\n",
       "  <tbody>\n",
       "    <tr>\n",
       "      <th>0</th>\n",
       "      <td>I have used this service before and was satisf...</td>\n",
       "      <td>0</td>\n",
       "    </tr>\n",
       "    <tr>\n",
       "      <th>1</th>\n",
       "      <td>First time I tried using them the driver was n...</td>\n",
       "      <td>0</td>\n",
       "    </tr>\n",
       "    <tr>\n",
       "      <th>2</th>\n",
       "      <td>Driver picked me up on time at 6AM and even kn...</td>\n",
       "      <td>1</td>\n",
       "    </tr>\n",
       "    <tr>\n",
       "      <th>3</th>\n",
       "      <td>First time using this taxi and limo company as...</td>\n",
       "      <td>1</td>\n",
       "    </tr>\n",
       "    <tr>\n",
       "      <th>4</th>\n",
       "      <td>Great experience. Driver was early and was ver...</td>\n",
       "      <td>1</td>\n",
       "    </tr>\n",
       "  </tbody>\n",
       "</table>\n",
       "</div>"
      ],
      "text/plain": [
       "                                              review  category\n",
       "0  I have used this service before and was satisf...         0\n",
       "1  First time I tried using them the driver was n...         0\n",
       "2  Driver picked me up on time at 6AM and even kn...         1\n",
       "3  First time using this taxi and limo company as...         1\n",
       "4  Great experience. Driver was early and was ver...         1"
      ]
     },
     "execution_count": 13,
     "metadata": {},
     "output_type": "execute_result"
    }
   ],
   "source": [
    "hotel_review_df.head()"
   ]
  },
  {
   "cell_type": "markdown",
   "metadata": {},
   "source": [
    "To check if the rating ratio is not biased"
   ]
  },
  {
   "cell_type": "code",
   "execution_count": 14,
   "metadata": {
    "scrolled": false
   },
   "outputs": [
    {
     "data": {
      "text/html": [
       "<div>\n",
       "<style scoped>\n",
       "    .dataframe tbody tr th:only-of-type {\n",
       "        vertical-align: middle;\n",
       "    }\n",
       "\n",
       "    .dataframe tbody tr th {\n",
       "        vertical-align: top;\n",
       "    }\n",
       "\n",
       "    .dataframe thead th {\n",
       "        text-align: right;\n",
       "    }\n",
       "</style>\n",
       "<table border=\"1\" class=\"dataframe\">\n",
       "  <thead>\n",
       "    <tr style=\"text-align: right;\">\n",
       "      <th>col_0</th>\n",
       "      <th>Total count</th>\n",
       "    </tr>\n",
       "    <tr>\n",
       "      <th>category</th>\n",
       "      <th></th>\n",
       "    </tr>\n",
       "  </thead>\n",
       "  <tbody>\n",
       "    <tr>\n",
       "      <th>0</th>\n",
       "      <td>507</td>\n",
       "    </tr>\n",
       "    <tr>\n",
       "      <th>1</th>\n",
       "      <td>933</td>\n",
       "    </tr>\n",
       "  </tbody>\n",
       "</table>\n",
       "</div>"
      ],
      "text/plain": [
       "col_0     Total count\n",
       "category             \n",
       "0                 507\n",
       "1                 933"
      ]
     },
     "execution_count": 14,
     "metadata": {},
     "output_type": "execute_result"
    }
   ],
   "source": [
    "pd.crosstab(index = restaurant_review_df['category'], columns=\"Total count\")\n"
   ]
  },
  {
   "cell_type": "code",
   "execution_count": 15,
   "metadata": {},
   "outputs": [
    {
     "data": {
      "text/html": [
       "<div>\n",
       "<style scoped>\n",
       "    .dataframe tbody tr th:only-of-type {\n",
       "        vertical-align: middle;\n",
       "    }\n",
       "\n",
       "    .dataframe tbody tr th {\n",
       "        vertical-align: top;\n",
       "    }\n",
       "\n",
       "    .dataframe thead th {\n",
       "        text-align: right;\n",
       "    }\n",
       "</style>\n",
       "<table border=\"1\" class=\"dataframe\">\n",
       "  <thead>\n",
       "    <tr style=\"text-align: right;\">\n",
       "      <th>col_0</th>\n",
       "      <th>Total count</th>\n",
       "    </tr>\n",
       "    <tr>\n",
       "      <th>category</th>\n",
       "      <th></th>\n",
       "    </tr>\n",
       "  </thead>\n",
       "  <tbody>\n",
       "    <tr>\n",
       "      <th>0</th>\n",
       "      <td>637</td>\n",
       "    </tr>\n",
       "    <tr>\n",
       "      <th>1</th>\n",
       "      <td>793</td>\n",
       "    </tr>\n",
       "  </tbody>\n",
       "</table>\n",
       "</div>"
      ],
      "text/plain": [
       "col_0     Total count\n",
       "category             \n",
       "0                 637\n",
       "1                 793"
      ]
     },
     "execution_count": 15,
     "metadata": {},
     "output_type": "execute_result"
    }
   ],
   "source": [
    "pd.crosstab(index = hotel_review_df['category'], columns=\"Total count\")\n"
   ]
  },
  {
   "cell_type": "markdown",
   "metadata": {},
   "source": [
    "As per pre-processing steps, removed all the special characters, multiple white spaces,converted text into tokens and applied stemmer and lemmatizer to normalize the review text "
   ]
  },
  {
   "cell_type": "code",
   "execution_count": 16,
   "metadata": {},
   "outputs": [],
   "source": [
    "def remove_extras(review):\n",
    "    \n",
    "    from nltk.stem.porter import PorterStemmer\n",
    "    from nltk.stem import WordNetLemmatizer\n",
    "    \n",
    "    stemmer = PorterStemmer()\n",
    "    lemmatizer = WordNetLemmatizer()\n",
    "    \n",
    "    documents = []\n",
    "    for rev in range(0, len(review)):\n",
    "        \n",
    "        #Remove Special Character\n",
    "        document = re.sub(r'\\W', ' ', str(review[rev]))\n",
    "        \n",
    "        #Remove multiple white spaces\n",
    "        document = re.sub(r'\\s+', ' ', document, flags=re.I)\n",
    "        \n",
    "        document = document.split()\n",
    "        \n",
    "        for i in range(0,len(document)):\n",
    "            document[i] = stemmer.stem(document[i])\n",
    "        \n",
    "        document = ' '.join(document)\n",
    "        \n",
    "        document = document.split()\n",
    "        \n",
    "        for i in range(0,len(document)):\n",
    "            document[i] = lemmatizer.lemmatize(document[i])\n",
    "        \n",
    "        document = ' '.join(document)\n",
    "        \n",
    "        documents.append(document)\n",
    "        \n",
    "        \n",
    "    return documents"
   ]
  },
  {
   "cell_type": "code",
   "execution_count": 17,
   "metadata": {},
   "outputs": [],
   "source": [
    "#a call to remove extras\n",
    "restaurant_review_df['review'] = remove_extras(restaurant_review_df['review'])\n",
    "hotel_review_df['review'] = remove_extras(hotel_review_df['review'])"
   ]
  },
  {
   "cell_type": "code",
   "execution_count": 18,
   "metadata": {},
   "outputs": [
    {
     "data": {
      "text/plain": [
       "'too expens for what they had i had an egg benedict plate call la drolet but it had a weird side soup with a desert that I dont person like I dont think i will go back there again'"
      ]
     },
     "execution_count": 18,
     "metadata": {},
     "output_type": "execute_result"
    }
   ],
   "source": [
    "#sample display\n",
    "restaurant_review_df['review'][0]\n"
   ]
  },
  {
   "cell_type": "code",
   "execution_count": 19,
   "metadata": {},
   "outputs": [
    {
     "data": {
      "text/plain": [
       "'I have use thi servic befor and wa satisfi until june 20 2018 I prearrang via telephon a pickup from termin 3 to georgetown and clearli specifi a credit card would be use for payment to the driver the car 570l arriv quickli and wa clean and the drive unev when it came time to pay I present my mastercard and that s when the problem start the driver found he had no connect on hi payment devic He tri sever time to put the card throug he even tri to put hi own card through at one paint in thi debacl and each time the unit said no connect He then tri drive the car with me in it off my properti and up and down the street in search of an internet connect at one point he drove me to an auto repair facil up the road stop along the way and stay park in the auto park lot tri to obtain internet servic I final ask after a veri extend period to plea return to my properti to sort it out It wa get dark and I wa travel alon and get anxiou I onli had a credit card in which to pay with He proceed to suggest that he would drive me into georgetown to an atm to get money I said no to thi a it would add anoth 20 minut to thi lengthi ordeal of be trap in the car i offer him a chequ which wa the onli other logic option H e said no to that idea He then proceed to call hi dispatch offic and I could hear everi word they told him they could not take payment via thi rout a he wa desper tri to get someon to process my card payment then he call gurdeep whoever that is who told him to tri charg hi unit He then spent at least 20 minut look over everi inch of hi car for hi charger to no avail I insist after 45 minut that I wa leav and go into my home and that a chequ would be the onli option He refus to leav my properti I went insid leav him to pace around my driveway in the dark on the phone with gurdeep after anoth period of home the driver came to my door and ask me to speak to gurdeep I explain what wa go on to gurdeep and hi impolit aggress and rude respons wa that it wa not hi problem that I had no cash and the problem wa I live in halton hill I decid not to commun ani further with gurdeep a he wa not understand of the situat and of the fact that I had specifi upon book that I would be pay by credit card the driver then told me he would call the polic for non payment then decid after anoth call and more pace around my driveway that gurdeep would accept my chequ At thi point I wa terrifi and it wa dark and I wa alon I told the driver I would have my husband who wa in anoth provinc call the compani to arrang a credit card payment the driver still refus to leav My husband call the compani and they final accept hi card for payment somehow the driver sat on the road in front of my hous until the hit man gurdeep receiv payment I guess I will never use thi servic again It wa a horribl experi I had everi intent of pay and sincer hope thi doe not happen to anyon el especi a femal travel alon'"
      ]
     },
     "execution_count": 19,
     "metadata": {},
     "output_type": "execute_result"
    }
   ],
   "source": [
    "#sample display\n",
    "hotel_review_df['review'][0]"
   ]
  },
  {
   "cell_type": "markdown",
   "metadata": {},
   "source": [
    "Converting Text to numbers"
   ]
  },
  {
   "cell_type": "markdown",
   "metadata": {},
   "source": [
    "Step 1 : Splitting the data into test and train to apply vectorization and TFIDF"
   ]
  },
  {
   "cell_type": "code",
   "execution_count": 20,
   "metadata": {},
   "outputs": [],
   "source": [
    "from sklearn.model_selection import train_test_split\n",
    "# Split data into training and test sets\n",
    "R_train, R_test, Ry_train, Ry_test = train_test_split(restaurant_review_df['review'], restaurant_review_df['category'], random_state=0, test_size=0.2)\n",
    "H_train, H_test, Hy_train, Hy_test = train_test_split(hotel_review_df['review'], hotel_review_df['category'], random_state=0, test_size=0.2)\n",
    "# , stratify= review_df['category'], test_size=0.2\n"
   ]
  },
  {
   "cell_type": "code",
   "execution_count": 21,
   "metadata": {},
   "outputs": [],
   "source": [
    "from sklearn.feature_extraction.text import CountVectorizer\n",
    "from sklearn.feature_extraction.text import TfidfVectorizer\n",
    "from sklearn.feature_extraction.text import TfidfTransformer  "
   ]
  },
  {
   "cell_type": "markdown",
   "metadata": {},
   "source": [
    "Vectorization using N-Grams and TFIDF (With stop words removal) in training data for both categories "
   ]
  },
  {
   "cell_type": "code",
   "execution_count": 22,
   "metadata": {},
   "outputs": [],
   "source": [
    "Restaurant_vectorizer = CountVectorizer(ngram_range = (1,2), stop_words=\"english\", min_df = 30)\n",
    "X_Restaurant_train = Restaurant_vectorizer.fit_transform(R_train)"
   ]
  },
  {
   "cell_type": "code",
   "execution_count": 23,
   "metadata": {},
   "outputs": [],
   "source": [
    "Hotel_vectorizer = CountVectorizer(ngram_range = (1,2), stop_words=\"english\", min_df = 30)\n",
    "X_Hotel_train = Hotel_vectorizer.fit_transform(H_train)"
   ]
  },
  {
   "cell_type": "code",
   "execution_count": 24,
   "metadata": {},
   "outputs": [],
   "source": [
    "Res_tfidfconverter = TfidfTransformer()  \n",
    "X_Restaurant_train = Res_tfidfconverter.fit_transform(X_Restaurant_train) "
   ]
  },
  {
   "cell_type": "code",
   "execution_count": 25,
   "metadata": {},
   "outputs": [],
   "source": [
    "Hotel_tfidfconverter = TfidfTransformer()  \n",
    "X_Hotel_train = Hotel_tfidfconverter.fit_transform(X_Hotel_train) "
   ]
  },
  {
   "cell_type": "code",
   "execution_count": 26,
   "metadata": {},
   "outputs": [
    {
     "data": {
      "text/plain": [
       "<1152x405 sparse matrix of type '<class 'numpy.float64'>'\n",
       "\twith 32427 stored elements in Compressed Sparse Row format>"
      ]
     },
     "execution_count": 26,
     "metadata": {},
     "output_type": "execute_result"
    }
   ],
   "source": [
    "#sparse matrix\n",
    "X_Restaurant_train"
   ]
  },
  {
   "cell_type": "code",
   "execution_count": 27,
   "metadata": {},
   "outputs": [
    {
     "data": {
      "text/plain": [
       "<1144x492 sparse matrix of type '<class 'numpy.float64'>'\n",
       "\twith 39143 stored elements in Compressed Sparse Row format>"
      ]
     },
     "execution_count": 27,
     "metadata": {},
     "output_type": "execute_result"
    }
   ],
   "source": [
    "#sparse matrix\n",
    "X_Hotel_train"
   ]
  },
  {
   "cell_type": "markdown",
   "metadata": {},
   "source": [
    "Vectorization and TFIDF in test data for both categories\n",
    "As the training data is already fitted with vectorizer, the test data is only transformed"
   ]
  },
  {
   "cell_type": "code",
   "execution_count": 28,
   "metadata": {},
   "outputs": [],
   "source": [
    "X_Restaurant_test = Restaurant_vectorizer.transform(R_test)"
   ]
  },
  {
   "cell_type": "code",
   "execution_count": 29,
   "metadata": {},
   "outputs": [],
   "source": [
    "X_Hotel_test = Hotel_vectorizer.transform(H_test)"
   ]
  },
  {
   "cell_type": "code",
   "execution_count": 30,
   "metadata": {},
   "outputs": [],
   "source": [
    "X_Restaurant_test = Res_tfidfconverter.transform(X_Restaurant_test) "
   ]
  },
  {
   "cell_type": "code",
   "execution_count": 31,
   "metadata": {},
   "outputs": [],
   "source": [
    "X_Hotel_test = Hotel_tfidfconverter.transform(X_Hotel_test) "
   ]
  },
  {
   "cell_type": "code",
   "execution_count": 32,
   "metadata": {},
   "outputs": [
    {
     "data": {
      "text/plain": [
       "<288x405 sparse matrix of type '<class 'numpy.float64'>'\n",
       "\twith 8228 stored elements in Compressed Sparse Row format>"
      ]
     },
     "execution_count": 32,
     "metadata": {},
     "output_type": "execute_result"
    }
   ],
   "source": [
    "X_Restaurant_test"
   ]
  },
  {
   "cell_type": "code",
   "execution_count": 33,
   "metadata": {},
   "outputs": [
    {
     "data": {
      "text/plain": [
       "<286x492 sparse matrix of type '<class 'numpy.float64'>'\n",
       "\twith 9463 stored elements in Compressed Sparse Row format>"
      ]
     },
     "execution_count": 33,
     "metadata": {},
     "output_type": "execute_result"
    }
   ],
   "source": [
    "X_Hotel_test"
   ]
  },
  {
   "cell_type": "markdown",
   "metadata": {},
   "source": [
    "# Task 2b : Building classification models "
   ]
  },
  {
   "cell_type": "markdown",
   "metadata": {},
   "source": [
    "Cross validation of various classification models"
   ]
  },
  {
   "cell_type": "code",
   "execution_count": 34,
   "metadata": {},
   "outputs": [],
   "source": [
    "#Importing required packages\n",
    "# from sklearn.ensemble import RandomForestRegressor\n",
    "from sklearn.naive_bayes import MultinomialNB\n",
    "from sklearn.metrics import classification_report, confusion_matrix, accuracy_score\n",
    "from sklearn.linear_model import LogisticRegression,SGDClassifier\n",
    "from sklearn.metrics import roc_curve, roc_auc_score, auc\n",
    "from sklearn.ensemble import RandomForestClassifier\n",
    "from sklearn.svm import LinearSVC\n",
    "from sklearn.neighbors import KNeighborsClassifier\n"
   ]
  },
  {
   "cell_type": "markdown",
   "metadata": {},
   "source": [
    "Function to perform cross validation"
   ]
  },
  {
   "cell_type": "code",
   "execution_count": 35,
   "metadata": {},
   "outputs": [],
   "source": [
    "from sklearn.model_selection import cross_val_score\n",
    "\n",
    "def cross_validation(features,labels,data_name):\n",
    "    models = [\n",
    "        RandomForestClassifier(n_estimators=200, max_depth=3, random_state=0),\n",
    "        LinearSVC(),\n",
    "        MultinomialNB(),\n",
    "        LogisticRegression(random_state=0),\n",
    "        KNeighborsClassifier(n_neighbors=3)\n",
    "    ]\n",
    "    CV = 5\n",
    "    cv_df = pd.DataFrame(index=range(CV * len(models)))\n",
    "    entries = []\n",
    "    for model in models:\n",
    "        model_name = model.__class__.__name__\n",
    "        accuracies = cross_val_score(model, features, labels, scoring='accuracy', cv=CV)\n",
    "        for fold_idx, accuracy in enumerate(accuracies):\n",
    "            entries.append((model_name, fold_idx, accuracy))\n",
    "        cv_df = pd.DataFrame(entries, columns=[\"model_name\", 'fold_idx', 'accuracy'])\n",
    "        import seaborn as sns\n",
    "        sns.boxplot(x='model_name', y='accuracy', data=cv_df)\n",
    "        sns.stripplot(x='model_name', y='accuracy', data=cv_df, \n",
    "                      size=12, jitter=True, edgecolor=\"gray\", linewidth=2)\n",
    "    plt.show()\n",
    "    print(cv_df.groupby('model_name').accuracy.mean())"
   ]
  },
  {
   "cell_type": "markdown",
   "metadata": {},
   "source": [
    "Box plot to understand the average accuracy value for all the classifier models based on train and test data"
   ]
  },
  {
   "cell_type": "code",
   "execution_count": 36,
   "metadata": {},
   "outputs": [
    {
     "name": "stderr",
     "output_type": "stream",
     "text": [
      "/Library/Frameworks/Python.framework/Versions/3.7/lib/python3.7/site-packages/sklearn/linear_model/logistic.py:433: FutureWarning: Default solver will be changed to 'lbfgs' in 0.22. Specify a solver to silence this warning.\n",
      "  FutureWarning)\n"
     ]
    },
    {
     "data": {
      "image/png": "[encoded data removed]",
      "text/plain": [
       "<Figure size 432x288 with 1 Axes>"
      ]
     },
     "metadata": {
      "needs_background": "light"
     },
     "output_type": "display_data"
    },
    {
     "name": "stdout",
     "output_type": "stream",
     "text": [
      "model_name\n",
      "KNeighborsClassifier      0.763896\n",
      "LinearSVC                 0.855016\n",
      "LogisticRegression        0.848952\n",
      "MultinomialNB             0.834173\n",
      "RandomForestClassifier    0.657979\n",
      "Name: accuracy, dtype: float64\n"
     ]
    },
    {
     "name": "stderr",
     "output_type": "stream",
     "text": [
      "/Library/Frameworks/Python.framework/Versions/3.7/lib/python3.7/site-packages/sklearn/linear_model/logistic.py:433: FutureWarning: Default solver will be changed to 'lbfgs' in 0.22. Specify a solver to silence this warning.\n",
      "  FutureWarning)\n"
     ]
    },
    {
     "data": {
      "image/png": "[encoded data removed]",
      "text/plain": [
       "<Figure size 432x288 with 1 Axes>"
      ]
     },
     "metadata": {
      "needs_background": "light"
     },
     "output_type": "display_data"
    },
    {
     "name": "stdout",
     "output_type": "stream",
     "text": [
      "model_name\n",
      "KNeighborsClassifier      0.790211\n",
      "LinearSVC                 0.862831\n",
      "LogisticRegression        0.876820\n",
      "MultinomialNB             0.857537\n",
      "RandomForestClassifier    0.750094\n",
      "Name: accuracy, dtype: float64\n"
     ]
    }
   ],
   "source": [
    "cross_validation(X_Restaurant_train,Ry_train,\"Restaurant\")\n",
    "cross_validation(X_Hotel_train,Hy_train,\"Hotel And Travel\")"
   ]
  },
  {
   "cell_type": "markdown",
   "metadata": {},
   "source": [
    "From the above graphs it can be found that,\n",
    "Fig 1& Fig 2: Linear SVC, Logistic regression and Multinomial NB performs decently when compared to K-NN and Random forest models (More outliers).\n",
    "This is just a cross validation step, further below each classifier model will be checked individually to get the exact accuracy for each classifer."
   ]
  },
  {
   "cell_type": "code",
   "execution_count": 37,
   "metadata": {},
   "outputs": [],
   "source": [
    "#for accuracy plotting\n",
    "auc_arr = []"
   ]
  },
  {
   "cell_type": "code",
   "execution_count": 38,
   "metadata": {},
   "outputs": [],
   "source": [
    "# to print the accuraty, Confusion matrix, ROC and Classification Report for all classifiers and plotting ROC curve\n",
    "def print_prediction_output(y_test, prediction_val):\n",
    "    print('ROC_AUC: ', roc_auc_score(y_test, prediction_val))\n",
    "    print('Confusion Matrix')\n",
    "    print(confusion_matrix(y_test,prediction_val))  \n",
    "    print('Classification Report')\n",
    "    print(classification_report(y_test,prediction_val)) \n",
    "    accuracy = accuracy_score(y_test, prediction_val)\n",
    "    auc_arr.append(accuracy)\n",
    "    print('Accuracy Score',accuracy)  \n",
    "    fpr, tpr, thresholds = roc_curve(y_test, prediction_val)\n",
    "    roc_auc = auc(fpr, tpr)\n",
    "    plt.figure()\n",
    "    plt.plot(fpr, tpr, color='darkorange', lw=1.1, label='ROC curve (area = %0.2f)' % roc_auc)\n",
    "    plt.plot([0, 1], [0, 1], color='navy', lw=1.1, linestyle='--')\n",
    "    plt.xlim([0.0, 1.0])\n",
    "    plt.ylim([0.0, 1.05])\n",
    "    plt.xlabel('False Positive Rate')\n",
    "    plt.ylabel('True Positive Rate')\n",
    "    plt.title('Receiver operating characteristic')\n",
    "    plt.legend(loc=\"lower right\")\n",
    "    plt.show()\n"
   ]
  },
  {
   "cell_type": "markdown",
   "metadata": {},
   "source": [
    "# Building Calssifiers"
   ]
  },
  {
   "cell_type": "markdown",
   "metadata": {},
   "source": [
    "Naive Bayes Classifier"
   ]
  },
  {
   "cell_type": "code",
   "execution_count": 39,
   "metadata": {},
   "outputs": [],
   "source": [
    "def Naive_Bayes_classifier(X_train, y_train, X_test, y_test):\n",
    "    clf = MultinomialNB()\n",
    "    clf.fit(X_train, y_train)\n",
    "    NB_predictions = clf.predict(X_test)\n",
    "    print_prediction_output(y_test, NB_predictions)"
   ]
  },
  {
   "cell_type": "markdown",
   "metadata": {},
   "source": [
    "Logistic Regression Classifier"
   ]
  },
  {
   "cell_type": "code",
   "execution_count": 40,
   "metadata": {},
   "outputs": [],
   "source": [
    "def Logistic_Reg_classifier(X_train, y_train, X_test, y_test):\n",
    "    model = LogisticRegression()\n",
    "    model.fit(X_train, y_train)\n",
    "    predictions = model.predict(X_test)\n",
    "    print_prediction_output(y_test, predictions) "
   ]
  },
  {
   "cell_type": "markdown",
   "metadata": {},
   "source": [
    "Random Forest Classifier"
   ]
  },
  {
   "cell_type": "code",
   "execution_count": 41,
   "metadata": {},
   "outputs": [],
   "source": [
    "def Random_forest_classifier(X_train, y_train, X_test, y_test):\n",
    "    regressor = RandomForestClassifier(n_estimators=200, max_depth=3, random_state=0)  \n",
    "    regressor.fit(X_train, y_train)  \n",
    "    RF_prediction = regressor.predict(X_test)  \n",
    "    print_prediction_output(y_test, RF_prediction.round())"
   ]
  },
  {
   "cell_type": "markdown",
   "metadata": {},
   "source": [
    "SVM - Linear SVC Classifier"
   ]
  },
  {
   "cell_type": "code",
   "execution_count": 42,
   "metadata": {},
   "outputs": [],
   "source": [
    "def SVC_classifier(X_train, y_train, X_test, y_test):\n",
    "    model = LinearSVC()\n",
    "    model.fit(X_train, y_train)\n",
    "    SVM_prediction = model.predict(X_test)\n",
    "    print_prediction_output(y_test, SVM_prediction)"
   ]
  },
  {
   "cell_type": "markdown",
   "metadata": {},
   "source": [
    "K-Nearest neighbour Classifier"
   ]
  },
  {
   "cell_type": "code",
   "execution_count": 43,
   "metadata": {},
   "outputs": [],
   "source": [
    "def KNN(X_train, y_train, X_test, y_test):\n",
    "    model = KNeighborsClassifier(n_neighbors=3) #3 - Neighbours\n",
    "    # Train the model using the training sets\n",
    "    model.fit(X_train, y_train)\n",
    "    #Predict Output\n",
    "    KNN_predicted= model.predict(X_test) # 0:Overcast, 2:Mild\n",
    "    print_prediction_output(y_test, KNN_predicted)"
   ]
  },
  {
   "cell_type": "markdown",
   "metadata": {},
   "source": [
    "# Task 2c : Testing and discussing prediction results for each category with all classifiers"
   ]
  },
  {
   "cell_type": "markdown",
   "metadata": {},
   "source": [
    "Prediction for Restaurant data\n",
    "\n",
    "ROC curve is plotted for true positive rates vs false positive rates"
   ]
  },
  {
   "cell_type": "code",
   "execution_count": 44,
   "metadata": {},
   "outputs": [
    {
     "name": "stdout",
     "output_type": "stream",
     "text": [
      "ROC_AUC:  0.7861579414374446\n",
      "Confusion Matrix\n",
      "[[ 55  37]\n",
      " [  5 191]]\n",
      "Classification Report\n",
      "              precision    recall  f1-score   support\n",
      "\n",
      "           0       0.92      0.60      0.72        92\n",
      "           1       0.84      0.97      0.90       196\n",
      "\n",
      "   micro avg       0.85      0.85      0.85       288\n",
      "   macro avg       0.88      0.79      0.81       288\n",
      "weighted avg       0.86      0.85      0.84       288\n",
      "\n",
      "Accuracy Score 0.8541666666666666\n"
     ]
    },
    {
     "data": {
      "image/png": "[encoded data removed]",
      "text/plain": [
       "<Figure size 432x288 with 1 Axes>"
      ]
     },
     "metadata": {
      "needs_background": "light"
     },
     "output_type": "display_data"
    }
   ],
   "source": [
    "Naive_Bayes_classifier(X_Restaurant_train, Ry_train, X_Restaurant_test, Ry_test)"
   ]
  },
  {
   "cell_type": "markdown",
   "metadata": {},
   "source": [
    "Accuracy rate is 85 %, still confusion matrix shows that data is slightly biased towards Positive ratings ( more value for predicted Yes(positive) while it is actually an Actual No(negative) value)"
   ]
  },
  {
   "cell_type": "code",
   "execution_count": 45,
   "metadata": {},
   "outputs": [
    {
     "name": "stdout",
     "output_type": "stream",
     "text": [
      "ROC_AUC:  0.803793256433008\n",
      "Confusion Matrix\n",
      "[[ 62  30]\n",
      " [ 13 183]]\n",
      "Classification Report\n",
      "              precision    recall  f1-score   support\n",
      "\n",
      "           0       0.83      0.67      0.74        92\n",
      "           1       0.86      0.93      0.89       196\n",
      "\n",
      "   micro avg       0.85      0.85      0.85       288\n",
      "   macro avg       0.84      0.80      0.82       288\n",
      "weighted avg       0.85      0.85      0.85       288\n",
      "\n",
      "Accuracy Score 0.8506944444444444\n"
     ]
    },
    {
     "name": "stderr",
     "output_type": "stream",
     "text": [
      "/Library/Frameworks/Python.framework/Versions/3.7/lib/python3.7/site-packages/sklearn/linear_model/logistic.py:433: FutureWarning: Default solver will be changed to 'lbfgs' in 0.22. Specify a solver to silence this warning.\n",
      "  FutureWarning)\n"
     ]
    },
    {
     "data": {
      "image/png": "[encoded data removed]",
      "text/plain": [
       "<Figure size 432x288 with 1 Axes>"
      ]
     },
     "metadata": {
      "needs_background": "light"
     },
     "output_type": "display_data"
    }
   ],
   "source": [
    "Logistic_Reg_classifier(X_Restaurant_train, Ry_train, X_Restaurant_test, Ry_test)"
   ]
  },
  {
   "cell_type": "markdown",
   "metadata": {},
   "source": [
    "Accuracy rate is 85 %, still confusion matrix shows that data is slightly biased towards Positive ratings but lesser when compared to Naive Bayes. Higher recall for positive supports that it is biased towards positive."
   ]
  },
  {
   "cell_type": "code",
   "execution_count": 46,
   "metadata": {},
   "outputs": [
    {
     "name": "stdout",
     "output_type": "stream",
     "text": [
      "ROC_AUC:  0.5409272404614021\n",
      "Confusion Matrix\n",
      "[[  8  84]\n",
      " [  1 195]]\n",
      "Classification Report\n",
      "              precision    recall  f1-score   support\n",
      "\n",
      "           0       0.89      0.09      0.16        92\n",
      "           1       0.70      0.99      0.82       196\n",
      "\n",
      "   micro avg       0.70      0.70      0.70       288\n",
      "   macro avg       0.79      0.54      0.49       288\n",
      "weighted avg       0.76      0.70      0.61       288\n",
      "\n",
      "Accuracy Score 0.7048611111111112\n"
     ]
    },
    {
     "data": {
      "image/png": "[encoded data removed]",
      "text/plain": [
       "<Figure size 432x288 with 1 Axes>"
      ]
     },
     "metadata": {
      "needs_background": "light"
     },
     "output_type": "display_data"
    }
   ],
   "source": [
    "Random_forest_classifier(X_Restaurant_train, Ry_train, X_Restaurant_test, Ry_test)"
   ]
  },
  {
   "cell_type": "markdown",
   "metadata": {},
   "source": [
    "Accuracy rate is 70% which is low compared to others and confusion matrix shows that data is highly biased towards Positive ratings. The recall and f1-score from the classification report shows that higher values for positive ratings and much lower values for negative ratings."
   ]
  },
  {
   "cell_type": "code",
   "execution_count": 47,
   "metadata": {
    "scrolled": false
   },
   "outputs": [
    {
     "name": "stdout",
     "output_type": "stream",
     "text": [
      "ROC_AUC:  0.8153283052351377\n",
      "Confusion Matrix\n",
      "[[ 66  26]\n",
      " [ 17 179]]\n",
      "Classification Report\n",
      "              precision    recall  f1-score   support\n",
      "\n",
      "           0       0.80      0.72      0.75        92\n",
      "           1       0.87      0.91      0.89       196\n",
      "\n",
      "   micro avg       0.85      0.85      0.85       288\n",
      "   macro avg       0.83      0.82      0.82       288\n",
      "weighted avg       0.85      0.85      0.85       288\n",
      "\n",
      "Accuracy Score 0.8506944444444444\n"
     ]
    },
    {
     "data": {
      "image/png": "[encoded data removed]",
      "text/plain": [
       "<Figure size 432x288 with 1 Axes>"
      ]
     },
     "metadata": {
      "needs_background": "light"
     },
     "output_type": "display_data"
    }
   ],
   "source": [
    "SVC_classifier(X_Restaurant_train, Ry_train, X_Restaurant_test, Ry_test)"
   ]
  },
  {
   "cell_type": "markdown",
   "metadata": {},
   "source": [
    "Accuracy rate is 85 % and confusion matrix shows that data is not biased when compared to other classifiers. Recall precision and f1 scores are evenly distributed for positive and negative."
   ]
  },
  {
   "cell_type": "code",
   "execution_count": 48,
   "metadata": {},
   "outputs": [
    {
     "name": "stdout",
     "output_type": "stream",
     "text": [
      "ROC_AUC:  0.7412377994676131\n",
      "Confusion Matrix\n",
      "[[ 58  34]\n",
      " [ 29 167]]\n",
      "Classification Report\n",
      "              precision    recall  f1-score   support\n",
      "\n",
      "           0       0.67      0.63      0.65        92\n",
      "           1       0.83      0.85      0.84       196\n",
      "\n",
      "   micro avg       0.78      0.78      0.78       288\n",
      "   macro avg       0.75      0.74      0.74       288\n",
      "weighted avg       0.78      0.78      0.78       288\n",
      "\n",
      "Accuracy Score 0.78125\n"
     ]
    },
    {
     "data": {
      "image/png": "[encoded data removed]",
      "text/plain": [
       "<Figure size 432x288 with 1 Axes>"
      ]
     },
     "metadata": {
      "needs_background": "light"
     },
     "output_type": "display_data"
    }
   ],
   "source": [
    "KNN(X_Restaurant_train, Ry_train, X_Restaurant_test, Ry_test)"
   ]
  },
  {
   "cell_type": "markdown",
   "metadata": {},
   "source": [
    "Accuracy rate is 78 % and confusion matrix shows that its not much biased."
   ]
  },
  {
   "cell_type": "markdown",
   "metadata": {},
   "source": [
    "Plot graph to show different acuuracy values for classifiers"
   ]
  },
  {
   "cell_type": "code",
   "execution_count": 49,
   "metadata": {},
   "outputs": [
    {
     "data": {
      "text/plain": [
       "[0.8541666666666666,\n",
       " 0.8506944444444444,\n",
       " 0.7048611111111112,\n",
       " 0.8506944444444444,\n",
       " 0.78125]"
      ]
     },
     "execution_count": 49,
     "metadata": {},
     "output_type": "execute_result"
    }
   ],
   "source": [
    "auc_arr"
   ]
  },
  {
   "cell_type": "code",
   "execution_count": 50,
   "metadata": {},
   "outputs": [
    {
     "data": {
      "image/png": "[encoded data removed]",
      "text/plain": [
       "<Figure size 432x288 with 1 Axes>"
      ]
     },
     "metadata": {
      "needs_background": "light"
     },
     "output_type": "display_data"
    },
    {
     "data": {
      "text/plain": [
       "<Figure size 1440x720 with 0 Axes>"
      ]
     },
     "metadata": {},
     "output_type": "display_data"
    }
   ],
   "source": [
    "objects = ('NB', 'Log Reg', 'Random Forest', 'SVM', 'KNN')\n",
    "y_pos = np.arange(len(objects))\n",
    "performance = auc_arr\n",
    "\n",
    "plt.bar(y_pos, performance, align='center', alpha=0.5)\n",
    "plt.xticks(y_pos, objects)\n",
    "plt.ylabel('Accuracy Scores')\n",
    "plt.title('Classifiers')\n",
    "plt.figure(figsize=(20,10))\n",
    "plt.show()"
   ]
  },
  {
   "cell_type": "markdown",
   "metadata": {},
   "source": [
    "From the acuracy values obtained, ROC curve, confusion matrix , precision recall scores it can be seen that Logistic regression and SVM classifiers perform with high accuracy and are less biased. K-NN has lesser accuracy compared to logistic and SVM but it is more unbiased."
   ]
  },
  {
   "cell_type": "markdown",
   "metadata": {},
   "source": [
    "Prediction for Hotel and Travel Data"
   ]
  },
  {
   "cell_type": "code",
   "execution_count": 51,
   "metadata": {},
   "outputs": [
    {
     "name": "stdout",
     "output_type": "stream",
     "text": [
      "::::: Hotel and Travel :::::\n",
      "ROC_AUC:  0.8258509389671361\n",
      "Confusion Matrix\n",
      "[[105  39]\n",
      " [ 11 131]]\n",
      "Classification Report\n",
      "              precision    recall  f1-score   support\n",
      "\n",
      "           0       0.91      0.73      0.81       144\n",
      "           1       0.77      0.92      0.84       142\n",
      "\n",
      "   micro avg       0.83      0.83      0.83       286\n",
      "   macro avg       0.84      0.83      0.82       286\n",
      "weighted avg       0.84      0.83      0.82       286\n",
      "\n",
      "Accuracy Score 0.8251748251748252\n"
     ]
    },
    {
     "data": {
      "image/png": "[encoded data removed]",
      "text/plain": [
       "<Figure size 432x288 with 1 Axes>"
      ]
     },
     "metadata": {
      "needs_background": "light"
     },
     "output_type": "display_data"
    }
   ],
   "source": [
    "#Hotel and Travel\n",
    "auc_arr = []\n",
    "print(\"::::: Hotel and Travel :::::\")\n",
    "Naive_Bayes_classifier(X_Hotel_train, Hy_train, X_Hotel_test, Hy_test)"
   ]
  },
  {
   "cell_type": "markdown",
   "metadata": {},
   "source": [
    "Accuracy rate is 82 %, still confusion matrix shows that data is slightly biased towards Positive ratings ( more value for predicted Yes(positive) while it is actually an Actual No(negative) value)"
   ]
  },
  {
   "cell_type": "code",
   "execution_count": 52,
   "metadata": {},
   "outputs": [
    {
     "name": "stdout",
     "output_type": "stream",
     "text": [
      "ROC_AUC:  0.8259487480438183\n",
      "Confusion Matrix\n",
      "[[103  41]\n",
      " [  9 133]]\n",
      "Classification Report\n",
      "              precision    recall  f1-score   support\n",
      "\n",
      "           0       0.92      0.72      0.80       144\n",
      "           1       0.76      0.94      0.84       142\n",
      "\n",
      "   micro avg       0.83      0.83      0.83       286\n",
      "   macro avg       0.84      0.83      0.82       286\n",
      "weighted avg       0.84      0.83      0.82       286\n",
      "\n",
      "Accuracy Score 0.8251748251748252\n"
     ]
    },
    {
     "name": "stderr",
     "output_type": "stream",
     "text": [
      "/Library/Frameworks/Python.framework/Versions/3.7/lib/python3.7/site-packages/sklearn/linear_model/logistic.py:433: FutureWarning: Default solver will be changed to 'lbfgs' in 0.22. Specify a solver to silence this warning.\n",
      "  FutureWarning)\n"
     ]
    },
    {
     "data": {
      "image/png": "[encoded data removed]",
      "text/plain": [
       "<Figure size 432x288 with 1 Axes>"
      ]
     },
     "metadata": {
      "needs_background": "light"
     },
     "output_type": "display_data"
    }
   ],
   "source": [
    "Logistic_Reg_classifier(X_Hotel_train, Hy_train, X_Hotel_test, Hy_test)"
   ]
  },
  {
   "cell_type": "markdown",
   "metadata": {},
   "source": [
    "Accuracy rate is 82 %, still confusion matrix shows that data is slightly biased towards Positive ratings but higher when compared to Naive Bayes. Higher recall for positive supports that it is biased towards positive."
   ]
  },
  {
   "cell_type": "code",
   "execution_count": 53,
   "metadata": {},
   "outputs": [
    {
     "name": "stdout",
     "output_type": "stream",
     "text": [
      "ROC_AUC:  0.690923317683881\n",
      "Confusion Matrix\n",
      "[[ 56  88]\n",
      " [  1 141]]\n",
      "Classification Report\n",
      "              precision    recall  f1-score   support\n",
      "\n",
      "           0       0.98      0.39      0.56       144\n",
      "           1       0.62      0.99      0.76       142\n",
      "\n",
      "   micro avg       0.69      0.69      0.69       286\n",
      "   macro avg       0.80      0.69      0.66       286\n",
      "weighted avg       0.80      0.69      0.66       286\n",
      "\n",
      "Accuracy Score 0.6888111888111889\n"
     ]
    },
    {
     "data": {
      "image/png": "[encoded data removed]",
      "text/plain": [
       "<Figure size 432x288 with 1 Axes>"
      ]
     },
     "metadata": {
      "needs_background": "light"
     },
     "output_type": "display_data"
    }
   ],
   "source": [
    "Random_forest_classifier(X_Hotel_train, Hy_train, X_Hotel_test, Hy_test)"
   ]
  },
  {
   "cell_type": "markdown",
   "metadata": {},
   "source": [
    "Accuracy rate is 69% which is low compared to others and confusion matrix shows that data is highly biased towards Positive ratings. The recall and f1-score from the classification report shows that higher values for positive ratings and much lower values for negative ratings."
   ]
  },
  {
   "cell_type": "code",
   "execution_count": 54,
   "metadata": {
    "scrolled": false
   },
   "outputs": [
    {
     "name": "stdout",
     "output_type": "stream",
     "text": [
      "ROC_AUC:  0.839739827856025\n",
      "Confusion Matrix\n",
      "[[109  35]\n",
      " [ 11 131]]\n",
      "Classification Report\n",
      "              precision    recall  f1-score   support\n",
      "\n",
      "           0       0.91      0.76      0.83       144\n",
      "           1       0.79      0.92      0.85       142\n",
      "\n",
      "   micro avg       0.84      0.84      0.84       286\n",
      "   macro avg       0.85      0.84      0.84       286\n",
      "weighted avg       0.85      0.84      0.84       286\n",
      "\n",
      "Accuracy Score 0.8391608391608392\n"
     ]
    },
    {
     "data": {
      "image/png": "[encoded data removed]",
      "text/plain": [
       "<Figure size 432x288 with 1 Axes>"
      ]
     },
     "metadata": {
      "needs_background": "light"
     },
     "output_type": "display_data"
    }
   ],
   "source": [
    "SVC_classifier(X_Hotel_train, Hy_train, X_Hotel_test, Hy_test)"
   ]
  },
  {
   "cell_type": "markdown",
   "metadata": {},
   "source": [
    "Accuracy rate is 83 % and confusion matrix shows that data is less biased when compared to other classifiers. Recall precision and f1 scores are distributed with small differences."
   ]
  },
  {
   "cell_type": "code",
   "execution_count": 55,
   "metadata": {},
   "outputs": [
    {
     "name": "stdout",
     "output_type": "stream",
     "text": [
      "ROC_AUC:  0.7416862284820032\n",
      "Confusion Matrix\n",
      "[[ 98  46]\n",
      " [ 28 114]]\n",
      "Classification Report\n",
      "              precision    recall  f1-score   support\n",
      "\n",
      "           0       0.78      0.68      0.73       144\n",
      "           1       0.71      0.80      0.75       142\n",
      "\n",
      "   micro avg       0.74      0.74      0.74       286\n",
      "   macro avg       0.75      0.74      0.74       286\n",
      "weighted avg       0.75      0.74      0.74       286\n",
      "\n",
      "Accuracy Score 0.7412587412587412\n"
     ]
    },
    {
     "data": {
      "image/png": "[encoded data removed]",
      "text/plain": [
       "<Figure size 432x288 with 1 Axes>"
      ]
     },
     "metadata": {
      "needs_background": "light"
     },
     "output_type": "display_data"
    }
   ],
   "source": [
    "KNN(X_Hotel_train, Hy_train, X_Hotel_test, Hy_test)"
   ]
  },
  {
   "cell_type": "markdown",
   "metadata": {},
   "source": [
    "Accuracy rate is 74 % and confusion matrix shows that its not much biased."
   ]
  },
  {
   "cell_type": "code",
   "execution_count": 56,
   "metadata": {},
   "outputs": [
    {
     "data": {
      "text/plain": [
       "[0.8251748251748252,\n",
       " 0.8251748251748252,\n",
       " 0.6888111888111889,\n",
       " 0.8391608391608392,\n",
       " 0.7412587412587412]"
      ]
     },
     "execution_count": 56,
     "metadata": {},
     "output_type": "execute_result"
    }
   ],
   "source": [
    "auc_arr"
   ]
  },
  {
   "cell_type": "code",
   "execution_count": 57,
   "metadata": {},
   "outputs": [
    {
     "data": {
      "image/png": "[encoded data removed]",
      "text/plain": [
       "<Figure size 432x288 with 1 Axes>"
      ]
     },
     "metadata": {
      "needs_background": "light"
     },
     "output_type": "display_data"
    },
    {
     "data": {
      "text/plain": [
       "<Figure size 1440x720 with 0 Axes>"
      ]
     },
     "metadata": {},
     "output_type": "display_data"
    }
   ],
   "source": [
    "objects = ('NB', 'Log Reg', 'Random Forest', 'SVM', 'KNN')\n",
    "y_pos = np.arange(len(objects))\n",
    "performance = auc_arr\n",
    "\n",
    "plt.bar(y_pos, performance, align='center', alpha=0.5)\n",
    "plt.xticks(y_pos, objects)\n",
    "plt.ylabel('Accuracy Scores')\n",
    "plt.title('Classifiers')\n",
    "plt.figure(figsize=(20,10))\n",
    "plt.show()"
   ]
  },
  {
   "cell_type": "markdown",
   "metadata": {},
   "source": [
    "From the acuracy values obtained, ROC curve, confusion matrix , precision recall scores it can be seen that Logistic regression and SVM classifiers perform with high accuracy and are less biased. K-NN has lesser accuracy compared to logistic and SVM but it is more unbiased. Eventhough naive bayes is less biased than logistic regression, for high accuracy percentage we consider Logistic regression to be better."
   ]
  },
  {
   "cell_type": "markdown",
   "metadata": {},
   "source": [
    "# TASK 3 : Evaluation of classification models transfer between categories"
   ]
  },
  {
   "cell_type": "markdown",
   "metadata": {},
   "source": [
    "Joined two categories dataframes to avoid inconsistent structure while vectorizing the text\n",
    "Note: the dataframes are already normalized with text pre-processing steps"
   ]
  },
  {
   "cell_type": "code",
   "execution_count": 58,
   "metadata": {},
   "outputs": [],
   "source": [
    "reviews_df = pd.concat([restaurant_review_df,hotel_review_df])"
   ]
  },
  {
   "cell_type": "code",
   "execution_count": 59,
   "metadata": {},
   "outputs": [
    {
     "data": {
      "text/html": [
       "<div>\n",
       "<style scoped>\n",
       "    .dataframe tbody tr th:only-of-type {\n",
       "        vertical-align: middle;\n",
       "    }\n",
       "\n",
       "    .dataframe tbody tr th {\n",
       "        vertical-align: top;\n",
       "    }\n",
       "\n",
       "    .dataframe thead th {\n",
       "        text-align: right;\n",
       "    }\n",
       "</style>\n",
       "<table border=\"1\" class=\"dataframe\">\n",
       "  <thead>\n",
       "    <tr style=\"text-align: right;\">\n",
       "      <th></th>\n",
       "      <th>review</th>\n",
       "      <th>category</th>\n",
       "    </tr>\n",
       "  </thead>\n",
       "  <tbody>\n",
       "    <tr>\n",
       "      <th>0</th>\n",
       "      <td>too expens for what they had i had an egg bene...</td>\n",
       "      <td>0</td>\n",
       "    </tr>\n",
       "    <tr>\n",
       "      <th>1</th>\n",
       "      <td>veri rustic place mismatch furnitur off knick ...</td>\n",
       "      <td>1</td>\n",
       "    </tr>\n",
       "    <tr>\n",
       "      <th>2</th>\n",
       "      <td>I highli recommend Au festin de babett for the...</td>\n",
       "      <td>1</td>\n",
       "    </tr>\n",
       "    <tr>\n",
       "      <th>3</th>\n",
       "      <td>amaz soup and dauphinois but the wait for the ...</td>\n",
       "      <td>0</td>\n",
       "    </tr>\n",
       "    <tr>\n",
       "      <th>4</th>\n",
       "      <td>I went here by recommend of a friend though th...</td>\n",
       "      <td>0</td>\n",
       "    </tr>\n",
       "  </tbody>\n",
       "</table>\n",
       "</div>"
      ],
      "text/plain": [
       "                                              review  category\n",
       "0  too expens for what they had i had an egg bene...         0\n",
       "1  veri rustic place mismatch furnitur off knick ...         1\n",
       "2  I highli recommend Au festin de babett for the...         1\n",
       "3  amaz soup and dauphinois but the wait for the ...         0\n",
       "4  I went here by recommend of a friend though th...         0"
      ]
     },
     "execution_count": 59,
     "metadata": {},
     "output_type": "execute_result"
    }
   ],
   "source": [
    "reviews_df.head()"
   ]
  },
  {
   "cell_type": "code",
   "execution_count": 60,
   "metadata": {},
   "outputs": [
    {
     "data": {
      "text/plain": [
       "2870"
      ]
     },
     "execution_count": 60,
     "metadata": {},
     "output_type": "execute_result"
    }
   ],
   "source": [
    "len(reviews_df)"
   ]
  },
  {
   "cell_type": "markdown",
   "metadata": {},
   "source": [
    "Performing text to number conversion using countvectorizer in the combined dataset.\n",
    "TFIDF not perfromed since it would not be suitable for the whole dataset."
   ]
  },
  {
   "cell_type": "code",
   "execution_count": 61,
   "metadata": {},
   "outputs": [],
   "source": [
    "Review_vectorizer = CountVectorizer(ngram_range = (1,2), stop_words=\"english\", min_df = 30)\n",
    "Main_Review_train = Review_vectorizer.fit_transform(reviews_df['review'])"
   ]
  },
  {
   "cell_type": "code",
   "execution_count": 62,
   "metadata": {},
   "outputs": [
    {
     "data": {
      "text/plain": [
       "<2870x1033 sparse matrix of type '<class 'numpy.int64'>'\n",
       "\twith 111534 stored elements in Compressed Sparse Row format>"
      ]
     },
     "execution_count": 62,
     "metadata": {},
     "output_type": "execute_result"
    }
   ],
   "source": [
    "Main_Review_train"
   ]
  },
  {
   "cell_type": "markdown",
   "metadata": {},
   "source": [
    "Split dataset into category A & B(restaurant and hotel)\n",
    "\n",
    "Category A"
   ]
  },
  {
   "cell_type": "code",
   "execution_count": 63,
   "metadata": {},
   "outputs": [],
   "source": [
    "M_R_train, M_R_test, My_R_train, My_R_test = train_test_split(Main_Review_train[:1400], reviews_df['category'][:1400], random_state=0, test_size=0.2)\n"
   ]
  },
  {
   "cell_type": "markdown",
   "metadata": {},
   "source": [
    "Category B"
   ]
  },
  {
   "cell_type": "code",
   "execution_count": 64,
   "metadata": {},
   "outputs": [],
   "source": [
    "M_H_train, M_H_test, My_H_train, My_H_test = train_test_split(Main_Review_train[1441:2801], reviews_df['category'][1441:2801], random_state=0, test_size=0.2)\n"
   ]
  },
  {
   "cell_type": "markdown",
   "metadata": {},
   "source": [
    "## Hypothesis:\n",
    "### 1. Model Trained on Restaurant will perform similarly or better when tested with Hotel and Travel\n",
    "### 2. Model Trained on Hotel and Travel will perform similarly or better when tested with Restaurant"
   ]
  },
  {
   "cell_type": "markdown",
   "metadata": {},
   "source": [
    "# Task 3a : Train a classification model on the data from “Category A”, and evaluate its performance on the data from “Category B”.\n"
   ]
  },
  {
   "cell_type": "markdown",
   "metadata": {},
   "source": [
    "From the task 2 results, we have considered two classifiers.\n",
    "SVM - Linear SVC & Logistic regression"
   ]
  },
  {
   "cell_type": "markdown",
   "metadata": {},
   "source": [
    "Logistic regression perfomed, trained with category A and tested with category B"
   ]
  },
  {
   "cell_type": "code",
   "execution_count": 65,
   "metadata": {},
   "outputs": [
    {
     "name": "stdout",
     "output_type": "stream",
     "text": [
      "ROC_AUC:  0.8197664947054032\n",
      "Confusion Matrix\n",
      "[[111  16]\n",
      " [ 34 111]]\n",
      "Classification Report\n",
      "              precision    recall  f1-score   support\n",
      "\n",
      "           0       0.77      0.87      0.82       127\n",
      "           1       0.87      0.77      0.82       145\n",
      "\n",
      "   micro avg       0.82      0.82      0.82       272\n",
      "   macro avg       0.82      0.82      0.82       272\n",
      "weighted avg       0.82      0.82      0.82       272\n",
      "\n",
      "Accuracy Score 0.8161764705882353\n"
     ]
    },
    {
     "name": "stderr",
     "output_type": "stream",
     "text": [
      "/Library/Frameworks/Python.framework/Versions/3.7/lib/python3.7/site-packages/sklearn/linear_model/logistic.py:433: FutureWarning: Default solver will be changed to 'lbfgs' in 0.22. Specify a solver to silence this warning.\n",
      "  FutureWarning)\n"
     ]
    },
    {
     "data": {
      "image/png": "[encoded data removed]",
      "text/plain": [
       "<Figure size 432x288 with 1 Axes>"
      ]
     },
     "metadata": {
      "needs_background": "light"
     },
     "output_type": "display_data"
    }
   ],
   "source": [
    "Logistic_Reg_classifier(M_R_train, My_R_train, M_H_test, My_H_test)"
   ]
  },
  {
   "cell_type": "markdown",
   "metadata": {},
   "source": [
    "Linear SVC perfomed, trained with category A and tested with category B"
   ]
  },
  {
   "cell_type": "code",
   "execution_count": 66,
   "metadata": {},
   "outputs": [
    {
     "name": "stdout",
     "output_type": "stream",
     "text": [
      "ROC_AUC:  0.7867770838989956\n",
      "Confusion Matrix\n",
      "[[107  20]\n",
      " [ 39 106]]\n",
      "Classification Report\n",
      "              precision    recall  f1-score   support\n",
      "\n",
      "           0       0.73      0.84      0.78       127\n",
      "           1       0.84      0.73      0.78       145\n",
      "\n",
      "   micro avg       0.78      0.78      0.78       272\n",
      "   macro avg       0.79      0.79      0.78       272\n",
      "weighted avg       0.79      0.78      0.78       272\n",
      "\n",
      "Accuracy Score 0.7830882352941176\n"
     ]
    },
    {
     "data": {
      "image/png": "[encoded data removed]",
      "text/plain": [
       "<Figure size 432x288 with 1 Axes>"
      ]
     },
     "metadata": {
      "needs_background": "light"
     },
     "output_type": "display_data"
    }
   ],
   "source": [
    "SVC_classifier(M_R_train, My_R_train, M_H_test, My_H_test)"
   ]
  },
  {
   "cell_type": "markdown",
   "metadata": {},
   "source": [
    "# Task 3b : Train a classification model on the data from “Category B”, and evaluate its performance on the data from “Category A”."
   ]
  },
  {
   "cell_type": "markdown",
   "metadata": {},
   "source": [
    "Logistic regression perfomed, trained with category B and tested with category A"
   ]
  },
  {
   "cell_type": "code",
   "execution_count": 67,
   "metadata": {},
   "outputs": [
    {
     "name": "stdout",
     "output_type": "stream",
     "text": [
      "ROC_AUC:  0.8037563339942718\n",
      "Confusion Matrix\n",
      "[[ 74  28]\n",
      " [ 21 157]]\n",
      "Classification Report\n",
      "              precision    recall  f1-score   support\n",
      "\n",
      "           0       0.78      0.73      0.75       102\n",
      "           1       0.85      0.88      0.87       178\n",
      "\n",
      "   micro avg       0.82      0.82      0.82       280\n",
      "   macro avg       0.81      0.80      0.81       280\n",
      "weighted avg       0.82      0.82      0.82       280\n",
      "\n",
      "Accuracy Score 0.825\n"
     ]
    },
    {
     "name": "stderr",
     "output_type": "stream",
     "text": [
      "/Library/Frameworks/Python.framework/Versions/3.7/lib/python3.7/site-packages/sklearn/linear_model/logistic.py:433: FutureWarning: Default solver will be changed to 'lbfgs' in 0.22. Specify a solver to silence this warning.\n",
      "  FutureWarning)\n"
     ]
    },
    {
     "data": {
      "image/png": "[encoded data removed]",
      "text/plain": [
       "<Figure size 432x288 with 1 Axes>"
      ]
     },
     "metadata": {
      "needs_background": "light"
     },
     "output_type": "display_data"
    }
   ],
   "source": [
    "Logistic_Reg_classifier(M_H_train, My_H_train, M_R_test, My_R_test)"
   ]
  },
  {
   "cell_type": "markdown",
   "metadata": {},
   "source": [
    "Linear SVC perfomed, trained with category B and tested with category A"
   ]
  },
  {
   "cell_type": "code",
   "execution_count": 68,
   "metadata": {},
   "outputs": [
    {
     "name": "stdout",
     "output_type": "stream",
     "text": [
      "ROC_AUC:  0.7791914518616436\n",
      "Confusion Matrix\n",
      "[[ 73  29]\n",
      " [ 28 150]]\n",
      "Classification Report\n",
      "              precision    recall  f1-score   support\n",
      "\n",
      "           0       0.72      0.72      0.72       102\n",
      "           1       0.84      0.84      0.84       178\n",
      "\n",
      "   micro avg       0.80      0.80      0.80       280\n",
      "   macro avg       0.78      0.78      0.78       280\n",
      "weighted avg       0.80      0.80      0.80       280\n",
      "\n",
      "Accuracy Score 0.7964285714285714\n"
     ]
    },
    {
     "data": {
      "image/png": "[encoded data removed]",
      "text/plain": [
       "<Figure size 432x288 with 1 Axes>"
      ]
     },
     "metadata": {
      "needs_background": "light"
     },
     "output_type": "display_data"
    }
   ],
   "source": [
    "SVC_classifier(M_H_train, My_H_train, M_R_test, My_R_test)"
   ]
  },
  {
   "cell_type": "markdown",
   "metadata": {},
   "source": [
    "## Result:\n",
    "### Evaluation of Hypothesis:"
   ]
  },
  {
   "cell_type": "markdown",
   "metadata": {},
   "source": [
    "#### Hypothesis 1: \n",
    "\n",
    "From the evaluation of task 3a it is clear that accuracy is reduced and bias is shifted towards negative reviews as well for both the classifiers.\n",
    "\n",
    "###### 1.The model trained on Restaurant reviews has 85% accuracy when tested on Restaurant reviews whereas 82% and 78% accuracy when tested on Hotel and Travel reviews with a shift in bias towards negative review for both classifiers.\n",
    "\n",
    "##### Thus the Null hypothesis is accepted. \n",
    "#### Null Hypothesis: Model Trained on Restaurant will not perform similarly or better when tested with Hotel and Travel\n",
    "\n",
    "The case of Null hypothesis being accepted for both classifiers would be because of the shift of bias towards negative rating when tested with different data. This can be caused because of difference in sparse matrix and similarity between the reviews. The Restauarant and Hotels can have similar nature of reviews but yet differ in the terms used and the length of reviews are comparatively smaller would result in smaller sparse matrix."
   ]
  },
  {
   "cell_type": "markdown",
   "metadata": {},
   "source": [
    "#### Hypothesis 2: \n",
    "From the evaluation of task 3b it is clear that accuracy is similar for Logistic Regression and reduced for Linear SVC but the bias is reduced it became modest for both the classifiers makes the performance better compared with the actual performance.\n",
    "\n",
    "###### 1.The model trained on Hotel and Travel reviews has 82% and 83%  accuracy when tested on Hotel and Travel reviews whereas 82% and 80% accuracy when tested on Hotel and Travel reviews with a better modest bias.\n",
    "\n",
    "##### Thus the hypothesis is accepted for Logistic Regression and  Linear SVC. \n",
    "#### Hypothesis: Model Trained on Hotel and Travel will perform similarly or better when tested with Restaurant\n",
    "\n",
    "\n",
    "The case of Hypothesis being accepted would be because the accuracy rate is maintained similarly and even the bias between positve and negative rating which was there in task 2 is reduced and made modest when tested with transfered categories. This improves the accuracy and performance of the classifiers. The length of hotel and travel reviews were comparatively longer which would of created a better sparse matrix for the model training."
   ]
  }
 ],
 "metadata": {
  "kernelspec": {
   "display_name": "Python 3",
   "language": "python",
   "name": "python3"
  },
  "language_info": {
   "codemirror_mode": {
    "name": "ipython",
    "version": 3
   },
   "file_extension": ".py",
   "mimetype": "text/x-python",
   "name": "python",
   "nbconvert_exporter": "python",
   "pygments_lexer": "ipython3",
   "version": "3.7.3"
  }
 },
 "nbformat": 4,
 "nbformat_minor": 2
}
